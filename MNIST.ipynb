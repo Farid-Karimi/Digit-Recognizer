{
 "cells": [
  {
   "cell_type": "markdown",
   "id": "e1961384",
   "metadata": {},
   "source": [
    "# Digit Recognizer"
   ]
  },
  {
   "cell_type": "markdown",
   "id": "ef12b20e",
   "metadata": {},
   "source": [
    "## Necessary Import"
   ]
  },
  {
   "cell_type": "code",
   "execution_count": 165,
   "id": "68319a66",
   "metadata": {},
   "outputs": [],
   "source": [
    "import numpy as np\n",
    "import pandas as pd\n",
    "from matplotlib import pyplot as plt\n",
    "\n",
    "data_train = pd.read_csv('train.csv')"
   ]
  },
  {
   "cell_type": "markdown",
   "id": "84c414cd",
   "metadata": {},
   "source": [
    "## Spliting The Data Into Dev And Training Sets"
   ]
  },
  {
   "cell_type": "code",
   "execution_count": 166,
   "id": "18f0f0c5",
   "metadata": {},
   "outputs": [],
   "source": [
    "data = np.array(data_train)\n",
    "m, n = data.shape\n",
    "np.random.shuffle(data)\n",
    "\n",
    "data_dev = data[0:1000].T\n",
    "Y_dev = data_dev[0]\n",
    "X_dev = data_dev[1:n]\n",
    "X_dev = X_dev / 255.\n",
    "\n",
    "data_train = data[1000:m].T\n",
    "Y_train = data_train[0]\n",
    "X_train = data_train[1:n]\n",
    "X_train = X_train / 255.\n",
    "_,m_train = X_train.shape"
   ]
  },
  {
   "cell_type": "markdown",
   "id": "bb8fbe00",
   "metadata": {},
   "source": [
    "## Implementation Of Forward And Back Propagation Methods And Activation Functions"
   ]
  },
  {
   "cell_type": "code",
   "execution_count": 167,
   "id": "f6a29b9a",
   "metadata": {},
   "outputs": [],
   "source": [
    "def init_params():\n",
    "    W1 = np.random.rand(128, 784) - 0.5\n",
    "    b1 = np.random.rand(128, 1) - 0.5\n",
    "    W2 = np.random.rand(10, 128) - 0.5\n",
    "    b2 = np.random.rand(10, 1) - 0.5\n",
    "    return W1, b1, W2, b2\n",
    "\n",
    "def sigmoid(x):\n",
    "    return 1 / (1 + np.exp(-x))\n",
    "\n",
    "def sigmoid_deriv(x):\n",
    "    sigmoid_x = sigmoid(x)\n",
    "    return sigmoid_x * (1 - sigmoid_x)\n",
    "\n",
    "\n",
    "def ReLU(Z):\n",
    "    return np.maximum(Z, 0)\n",
    "\n",
    "def ReLU_deriv(Z):\n",
    "    return Z > 0\n",
    "\n",
    "def softmax(Z):\n",
    "    return (np.exp(Z) / sum(np.exp(Z)))\n",
    "\n",
    "def forward_prop(W1, b1, W2, b2, X):\n",
    "    Z1 = W1.dot(X) + b1\n",
    "    A1 = ReLU(Z1)\n",
    "    Z2 = W2.dot(A1) + b2\n",
    "    A2 = softmax(Z2)\n",
    "    return Z1, A1, Z2, A2\n",
    "\n",
    "def one_hot(Y):\n",
    "    one_hot_Y = np.zeros((Y.size, Y.max() + 1))\n",
    "    one_hot_Y[np.arange(Y.size), Y] = 1\n",
    "    one_hot_Y = one_hot_Y.T\n",
    "    return one_hot_Y\n",
    "\n",
    "def back_prop(Z1, A1, Z2, A2, W1, W2, X, Y):\n",
    "    m = Y.size\n",
    "    one_hot_Y = one_hot(Y)\n",
    "    dZ2 = A2 - one_hot_Y\n",
    "    dW2 = 1 / m * dZ2.dot(A1.T)\n",
    "    db2 = 1 / m * np.sum(dZ2)\n",
    "    dZ1 = W2.T.dot(dZ2) * ReLU_deriv(Z1)\n",
    "    dW1 = 1 / m * dZ1.dot(X.T)\n",
    "    db1 = 1 / m * np.sum(dZ1)\n",
    "    return dW1, db1, dW2, db2\n",
    "\n",
    "def update_params(W1, b1, W2, b2, dW1, db1, dW2, db2, alpha):\n",
    "    W1 = W1 - dW1 * alpha\n",
    "    b1  = b1 - db1 * alpha\n",
    "    W2 = W2 - dW2 * alpha\n",
    "    b2 = b2 - db2 * alpha\n",
    "    return W1, b1, W2, b2"
   ]
  },
  {
   "cell_type": "markdown",
   "id": "bf94a913",
   "metadata": {},
   "source": [
    "## Methods For Calculating The Accuracy"
   ]
  },
  {
   "cell_type": "code",
   "execution_count": 168,
   "id": "42f3cc2b",
   "metadata": {},
   "outputs": [],
   "source": [
    "def get_predictions(A2):\n",
    "    return np.argmax(A2, 0)\n",
    "\n",
    "def get_accuracy(predictions, Y):\n",
    "    print(predictions, Y)\n",
    "    return np.sum(predictions == Y) / Y.size\n",
    "\n",
    "def gradient_descent(X, Y, alpha, iterations):\n",
    "    W1, b1, W2, b2 = init_params()\n",
    "    for i in range(iterations):\n",
    "        Z1, A1, Z2, A2 = forward_prop(W1, b1, W2, b2, X)\n",
    "        dW1, db1, dW2, db2 = back_prop(Z1, A1, Z2, A2, W1, W2, X, Y)\n",
    "        W1, b1, W2, b2 = update_params(W1, b1, W2, b2, dW1, db1, dW2, db2, alpha)\n",
    "        if i % 10 == 0:\n",
    "            print(\"Iteration: \", i)\n",
    "            predictions = get_predictions(A2)\n",
    "            print(get_accuracy(predictions, Y))\n",
    "    return W1, b1, W2, b2\n",
    "\n",
    "def gradient_descent_batch(X, Y, alpha, batch_size, iterations):\n",
    "    W1, b1, W2, b2 = init_params()\n",
    "    m = Y.size\n",
    "    num_batches = m // batch_size\n",
    "    \n",
    "    for i in range(iterations):\n",
    "        for j in range(num_batches):\n",
    "            start_index = j * batch_size\n",
    "            end_index = start_index + batch_size\n",
    "            \n",
    "            X_batch = X[:, start_index:end_index]\n",
    "            Y_batch = Y[start_index:end_index]\n",
    "            \n",
    "            Z1, A1, Z2, A2 = forward_prop(W1, b1, W2, b2, X_batch)\n",
    "            dW1, db1, dW2, db2 = back_prop(Z1, A1, Z2, A2, W1, W2, X_batch, Y_batch)\n",
    "            \n",
    "            W1, b1, W2, b2 = update_params(W1, b1, W2, b2, dW1, db1, dW2, db2, alpha)\n",
    "        \n",
    "        if i % 10 == 0:\n",
    "            print(\"Iteration: \", i)\n",
    "            predictions = make_predictions(X, W1, b1, W2, b2)\n",
    "            print(\"accuracy\", get_accuracy(predictions, Y))\n",
    "    \n",
    "    return W1, b1, W2, b2"
   ]
  },
  {
   "cell_type": "markdown",
   "id": "41b67195",
   "metadata": {},
   "source": [
    "## Methods For Calculating The Accuracy On Test Data"
   ]
  },
  {
   "cell_type": "code",
   "execution_count": 169,
   "id": "cb897847",
   "metadata": {},
   "outputs": [],
   "source": [
    "def make_predictions(X, W1, b1, W2, b2):\n",
    "    _, _, _, A2 = forward_prop(W1, b1, W2, b2, X)\n",
    "    predictions = get_predictions(A2)\n",
    "    return predictions\n",
    "\n",
    "def test_prediction(index, W1, b1, W2, b2):\n",
    "    current_image = X_train[:, index, None]\n",
    "    prediction = make_predictions(X_train[:, index, None], W1, b1, W2, b2)\n",
    "    label = Y_train[index]\n",
    "    print(\"Prediction: \", prediction)\n",
    "    print(\"Label: \", label)\n",
    "    \n",
    "    current_image = current_image.reshape((28, 28)) * 255\n",
    "    plt.gray()\n",
    "    plt.imshow(current_image, interpolation='nearest')\n",
    "    plt.show()"
   ]
  },
  {
   "cell_type": "markdown",
   "id": "9aeb9327",
   "metadata": {},
   "source": [
    "## Regular Gradiant Decent"
   ]
  },
  {
   "cell_type": "code",
   "execution_count": 171,
   "id": "53d5d253",
   "metadata": {},
   "outputs": [
    {
     "name": "stdout",
     "output_type": "stream",
     "text": [
      "Iteration:  0\n",
      "[4 0 4 ... 4 4 4] [9 0 6 ... 6 9 0]\n",
      "0.08446341463414635\n",
      "Iteration:  10\n",
      "[7 0 6 ... 6 2 0] [9 0 6 ... 6 9 0]\n",
      "0.4552439024390244\n",
      "Iteration:  20\n",
      "[7 8 6 ... 6 2 0] [9 0 6 ... 6 9 0]\n",
      "0.6159268292682927\n",
      "Iteration:  30\n",
      "[7 8 6 ... 6 2 0] [9 0 6 ... 6 9 0]\n",
      "0.6908536585365853\n",
      "Iteration:  40\n",
      "[2 8 6 ... 6 9 0] [9 0 6 ... 6 9 0]\n",
      "0.735609756097561\n",
      "Iteration:  50\n",
      "[2 8 6 ... 6 9 0] [9 0 6 ... 6 9 0]\n",
      "0.7666829268292683\n",
      "Iteration:  60\n",
      "[2 8 6 ... 6 9 0] [9 0 6 ... 6 9 0]\n",
      "0.7875365853658537\n",
      "Iteration:  70\n",
      "[2 8 6 ... 6 9 0] [9 0 6 ... 6 9 0]\n",
      "0.804609756097561\n",
      "Iteration:  80\n",
      "[2 8 6 ... 6 9 0] [9 0 6 ... 6 9 0]\n",
      "0.8177317073170731\n",
      "Iteration:  90\n",
      "[2 8 6 ... 6 9 0] [9 0 6 ... 6 9 0]\n",
      "0.8276097560975609\n",
      "Iteration:  100\n",
      "[2 8 6 ... 6 9 0] [9 0 6 ... 6 9 0]\n",
      "0.8356097560975609\n",
      "Iteration:  110\n",
      "[2 8 6 ... 6 9 0] [9 0 6 ... 6 9 0]\n",
      "0.8428780487804878\n",
      "Iteration:  120\n",
      "[2 8 6 ... 6 9 0] [9 0 6 ... 6 9 0]\n",
      "0.8494146341463414\n",
      "Iteration:  130\n",
      "[2 8 6 ... 6 9 0] [9 0 6 ... 6 9 0]\n",
      "0.8549024390243902\n",
      "Iteration:  140\n",
      "[2 8 6 ... 6 9 0] [9 0 6 ... 6 9 0]\n",
      "0.8599024390243902\n",
      "Iteration:  150\n",
      "[2 8 6 ... 6 9 0] [9 0 6 ... 6 9 0]\n",
      "0.864609756097561\n",
      "Iteration:  160\n",
      "[2 8 6 ... 6 9 0] [9 0 6 ... 6 9 0]\n",
      "0.8688292682926829\n",
      "Iteration:  170\n",
      "[2 8 6 ... 6 9 0] [9 0 6 ... 6 9 0]\n",
      "0.872609756097561\n",
      "Iteration:  180\n",
      "[2 8 6 ... 6 9 0] [9 0 6 ... 6 9 0]\n",
      "0.8754390243902439\n",
      "Iteration:  190\n",
      "[2 8 6 ... 6 9 0] [9 0 6 ... 6 9 0]\n",
      "0.8789512195121951\n"
     ]
    }
   ],
   "source": [
    "W1, b1, W2, b2 = gradient_descent(X_train, Y_train, 0.15, 200)"
   ]
  },
  {
   "cell_type": "markdown",
   "id": "9209b68e",
   "metadata": {},
   "source": [
    "## Batch Gradiant Descent"
   ]
  },
  {
   "cell_type": "code",
   "execution_count": 172,
   "id": "2cfd203c",
   "metadata": {
    "scrolled": true
   },
   "outputs": [
    {
     "name": "stdout",
     "output_type": "stream",
     "text": [
      "Iteration:  0\n",
      "[2 6 6 ... 5 9 0] [9 0 6 ... 6 9 0]\n",
      "accuracy 0.9058048780487805\n",
      "Iteration:  10\n",
      "[9 0 6 ... 6 9 0] [9 0 6 ... 6 9 0]\n",
      "accuracy 0.9752682926829268\n",
      "Iteration:  20\n",
      "[9 0 6 ... 6 9 0] [9 0 6 ... 6 9 0]\n",
      "accuracy 0.986390243902439\n",
      "Iteration:  30\n",
      "[9 0 6 ... 6 9 0] [9 0 6 ... 6 9 0]\n",
      "accuracy 0.9932439024390244\n"
     ]
    }
   ],
   "source": [
    "batch_size = 100\n",
    "iterations = 40\n",
    "learning_rate = 0.15\n",
    "\n",
    "W1, b1, W2, b2 = gradient_descent_batch(X_train, Y_train, learning_rate, batch_size, iterations)"
   ]
  },
  {
   "cell_type": "markdown",
   "id": "cf72ac18",
   "metadata": {},
   "source": [
    "## Testing Random Examples"
   ]
  },
  {
   "cell_type": "code",
   "execution_count": 196,
   "id": "bda27284",
   "metadata": {
    "scrolled": true
   },
   "outputs": [
    {
     "name": "stdout",
     "output_type": "stream",
     "text": [
      "Prediction:  [9]\n",
      "Label:  9\n"
     ]
    },
    {
     "data": {
      "image/png": "[encoded data removed]",
      "text/plain": [
       "<Figure size 640x480 with 1 Axes>"
      ]
     },
     "metadata": {},
     "output_type": "display_data"
    },
    {
     "name": "stdout",
     "output_type": "stream",
     "text": [
      "Prediction:  [6]\n",
      "Label:  6\n"
     ]
    },
    {
     "data": {
      "image/png": "[encoded data removed]",
      "text/plain": [
       "<Figure size 640x480 with 1 Axes>"
      ]
     },
     "metadata": {},
     "output_type": "display_data"
    },
    {
     "name": "stdout",
     "output_type": "stream",
     "text": [
      "Prediction:  [9]\n",
      "Label:  4\n"
     ]
    },
    {
     "data": {
      "image/png": "[encoded data removed]",
      "text/plain": [
       "<Figure size 640x480 with 1 Axes>"
      ]
     },
     "metadata": {},
     "output_type": "display_data"
    }
   ],
   "source": [
    "test_prediction(133, W1, b1, W2, b2)\n",
    "test_prediction(168, W1, b1, W2, b2)\n",
    "test_prediction(15, W1, b1, W2, b2)"
   ]
  },
  {
   "cell_type": "markdown",
   "id": "27010cb7",
   "metadata": {},
   "source": [
    "## Accuracy For Test Data"
   ]
  },
  {
   "cell_type": "code",
   "execution_count": 178,
   "id": "7551585c",
   "metadata": {
    "scrolled": false
   },
   "outputs": [
    {
     "name": "stdout",
     "output_type": "stream",
     "text": [
      "[4 1 3 4 8 2 7 8 6 8 6 9 3 4 1 3 3 1 3 0 3 0 5 7 1 2 2 1 0 1 3 5 1 2 2 6 9\n",
      " 6 7 3 3 2 0 1 6 0 6 1 3 8 6 0 2 9 4 8 1 8 1 7 3 2 0 8 3 3 7 2 2 7 6 1 3 0\n",
      " 2 4 8 7 6 7 3 0 1 0 1 9 8 0 0 8 1 6 0 7 8 2 2 7 5 5 7 2 0 0 7 5 5 2 6 5 3\n",
      " 7 6 3 1 2 3 4 6 1 4 2 6 0 3 9 9 8 8 4 4 5 4 3 6 0 1 4 4 8 0 3 8 7 4 0 5 0\n",
      " 5 3 2 6 2 3 0 5 8 8 4 6 1 9 3 9 6 1 0 0 6 6 7 6 0 8 9 2 8 2 0 8 0 0 1 4 4\n",
      " 8 0 4 7 5 9 2 5 0 0 3 0 9 2 0 8 7 6 7 2 5 6 5 9 1 9 1 3 1 8 6 4 4 4 4 1 2\n",
      " 1 4 3 6 0 3 5 1 5 3 1 2 0 3 2 8 4 9 3 5 2 3 7 4 6 8 0 0 5 5 1 0 8 5 4 2 0\n",
      " 3 1 9 2 5 8 6 6 5 8 8 5 7 4 3 4 5 2 6 7 2 8 0 9 2 4 1 2 9 0 9 2 4 7 3 3 8\n",
      " 7 6 7 4 9 7 9 0 7 8 8 9 3 0 1 1 9 6 6 8 2 2 0 0 6 5 2 5 2 4 5 9 7 9 4 9 0\n",
      " 7 9 3 9 7 1 5 3 9 7 6 9 0 8 8 3 1 5 9 4 6 3 3 8 8 2 9 7 6 1 9 5 3 9 0 8 8\n",
      " 9 1 2 8 6 3 2 5 1 0 1 6 0 3 2 8 2 0 4 3 2 9 1 1 9 2 5 1 7 8 1 4 3 1 5 4 4\n",
      " 7 4 5 2 1 3 1 0 7 1 2 8 1 5 3 9 4 8 8 4 2 9 5 1 1 3 6 2 8 9 3 2 1 5 4 7 3\n",
      " 9 6 2 7 5 7 0 6 2 1 9 9 3 6 5 7 4 2 0 0 0 6 5 6 0 4 5 5 4 3 6 5 6 8 8 7 0\n",
      " 4 0 4 4 7 3 8 4 8 4 2 1 0 6 8 3 0 2 9 2 9 9 8 8 3 9 0 5 7 0 3 7 7 8 5 2 0\n",
      " 9 6 3 9 3 0 7 9 8 1 2 6 7 8 7 8 6 5 9 1 6 8 2 1 5 3 9 2 5 5 3 2 9 8 0 3 8\n",
      " 4 5 4 8 6 5 6 9 3 6 8 1 3 2 9 8 4 1 9 4 1 6 1 4 2 0 4 8 0 3 7 8 8 6 0 3 5\n",
      " 3 9 8 7 2 0 6 0 9 3 9 1 7 6 6 6 5 1 4 5 5 0 6 7 6 4 7 8 8 3 4 0 5 4 6 3 4\n",
      " 2 0 6 4 7 1 9 9 5 9 9 3 8 1 6 9 5 3 3 5 7 3 2 1 7 9 7 5 9 4 1 8 2 7 7 2 9\n",
      " 2 1 4 2 6 1 8 9 6 4 3 2 2 7 5 6 0 8 9 0 3 9 3 1 3 4 9 6 2 8 4 3 4 7 6 9 9\n",
      " 1 2 2 7 5 2 3 3 6 6 1 8 7 2 7 8 5 5 2 5 4 9 6 1 0 8 8 4 5 7 6 7 6 2 5 1 5\n",
      " 9 3 4 5 9 8 7 0 3 3 9 8 7 6 8 5 4 9 5 8 7 1 7 5 8 4 6 2 8 0 3 9 5 7 6 6 8\n",
      " 1 2 4 8 5 2 5 2 7 2 3 9 9 8 2 2 1 4 3 9 2 4 6 7 6 4 8 7 1 5 8 6 1 3 8 5 8\n",
      " 9 6 0 3 8 7 7 8 8 7 6 5 1 5 1 2 0 4 1 3 7 1 0 5 2 7 1 6 0 0 7 4 1 9 9 8 2\n",
      " 2 5 8 8 0 8 4 4 5 6 7 8 8 8 4 4 1 6 8 8 9 1 2 1 9 0 5 6 6 6 9 0 6 8 2 3 8\n",
      " 0 9 7 5 9 1 1 8 5 6 1 1 7 6 1 9 4 3 0 5 6 4 1 9 4 3 0 7 3 9 5 1 6 8 9 1 1\n",
      " 7 4 6 0 3 3 2 4 2 3 0 5 9 4 6 2 4 7 4 5 1 0 9 1 8 7 2 3 6 1 1 5 9 7 0 2 6\n",
      " 5 0 5 0 1 4 8 2 2 6 1 3 3 6 0 1 6 9 3 1 6 0 2 6 5 0 8 9 3 4 5 8 5 5 8 5 5\n",
      " 8] [4 1 3 4 8 3 7 8 6 8 6 9 3 4 1 3 3 1 3 0 3 0 5 7 1 2 2 1 0 1 3 5 1 2 2 6 9\n",
      " 6 7 3 3 2 0 1 6 0 6 1 3 8 6 0 2 9 4 8 1 8 1 7 3 2 0 8 8 3 7 2 2 7 6 1 3 0\n",
      " 2 4 8 7 6 7 3 0 1 0 1 9 8 0 0 8 1 6 0 4 8 2 2 7 5 5 7 2 0 0 7 5 5 2 6 5 3\n",
      " 7 6 3 1 2 3 4 6 1 4 2 6 0 3 9 9 8 9 4 2 5 4 3 6 0 1 4 4 8 0 3 8 7 4 0 5 0\n",
      " 5 3 2 6 2 5 0 5 8 8 4 6 1 9 3 9 6 1 0 0 6 6 7 6 0 8 9 2 8 2 0 8 0 0 1 4 4\n",
      " 8 0 4 7 5 9 2 5 0 0 3 0 9 2 0 8 7 6 7 2 5 6 5 9 1 9 1 3 1 8 6 4 4 9 4 1 2\n",
      " 1 4 3 6 0 3 3 1 5 3 1 2 0 3 2 8 4 9 3 5 2 3 7 4 6 8 0 0 5 5 1 0 8 5 4 2 0\n",
      " 3 1 9 2 5 8 6 6 5 8 8 6 7 4 3 4 5 2 6 7 2 8 0 9 2 4 1 2 3 0 9 2 2 7 3 3 8\n",
      " 7 6 7 4 9 7 9 0 7 8 8 9 3 0 1 1 9 6 6 3 2 2 0 0 6 5 2 5 2 4 5 9 7 9 4 9 2\n",
      " 7 9 9 9 7 1 5 3 9 7 6 9 0 8 8 3 1 5 9 4 6 3 3 8 8 2 9 7 6 1 9 3 3 9 0 8 8\n",
      " 9 1 2 8 6 3 2 5 1 0 1 6 0 3 2 8 2 9 4 3 2 9 1 1 9 2 5 1 7 8 1 4 3 1 5 4 4\n",
      " 7 4 5 2 1 3 1 0 7 1 2 8 1 5 3 9 4 8 8 4 2 9 5 1 1 3 6 2 8 9 3 2 1 5 4 7 3\n",
      " 9 6 2 7 5 7 0 6 2 1 9 9 3 6 5 3 4 2 0 0 0 6 5 6 0 4 5 5 4 3 6 5 6 8 8 7 0\n",
      " 4 9 4 4 7 3 8 4 9 4 2 1 0 6 8 3 0 2 9 2 9 9 8 8 3 9 0 5 7 0 3 7 7 8 8 2 0\n",
      " 9 6 3 9 3 0 7 9 8 1 2 6 7 8 7 8 6 6 9 1 6 8 2 1 5 3 9 2 5 5 3 2 9 8 0 3 8\n",
      " 4 5 4 8 6 5 6 9 3 6 8 1 3 2 9 8 4 1 9 4 8 6 1 4 2 0 4 8 0 3 7 8 8 6 0 3 5\n",
      " 3 9 8 7 2 0 6 0 9 3 9 1 7 6 6 6 5 1 4 5 5 0 6 9 6 4 7 8 8 3 4 0 5 4 6 3 4\n",
      " 2 0 6 4 7 1 9 9 5 9 9 3 8 1 6 9 5 3 3 5 7 3 2 1 7 9 7 5 9 4 1 2 2 7 7 2 9\n",
      " 2 1 4 2 6 1 8 9 6 4 3 2 2 7 5 6 0 8 9 0 3 9 3 1 3 4 9 6 2 3 4 3 4 7 6 9 9\n",
      " 1 2 2 7 5 2 3 3 6 6 1 8 7 2 7 8 5 5 2 5 4 9 6 1 0 8 8 4 4 9 5 7 6 2 5 1 5\n",
      " 9 3 4 5 9 8 7 0 3 3 5 8 7 6 8 5 4 9 5 8 9 1 7 5 8 4 6 2 8 0 3 9 5 7 6 6 8\n",
      " 1 2 4 8 5 2 5 2 7 2 3 9 9 8 2 2 1 4 3 9 2 4 6 7 6 4 8 7 1 5 8 6 1 3 8 5 8\n",
      " 9 6 0 3 8 7 7 8 8 7 6 5 1 5 1 2 0 4 1 3 7 1 0 5 2 7 1 6 0 0 7 4 1 9 9 8 2\n",
      " 2 5 8 8 0 8 4 4 5 6 7 8 3 8 4 4 1 6 8 8 9 1 2 1 9 0 5 6 6 6 9 0 6 8 2 3 8\n",
      " 0 9 7 5 9 1 1 8 5 6 1 1 7 6 1 9 4 3 0 5 6 4 1 9 4 3 0 7 3 9 5 1 6 8 9 1 1\n",
      " 7 4 6 0 3 3 2 4 2 3 0 5 9 4 6 2 4 7 4 5 1 0 9 1 8 7 2 3 6 1 1 5 9 7 0 2 6\n",
      " 5 0 5 3 1 4 8 2 3 6 1 3 3 6 0 1 6 9 3 1 6 0 2 6 8 0 8 5 3 4 5 8 5 5 8 5 5\n",
      " 8]\n",
      "Accuracy on test data is: 0.965\n"
     ]
    }
   ],
   "source": [
    "dev_predictions = make_predictions(X_dev, W1, b1, W2, b2)\n",
    "acc = get_accuracy(dev_predictions, Y_dev)\n",
    "print(\"Accuracy on test data is:\" ,acc)"
   ]
  },
  {
   "cell_type": "code",
   "execution_count": null,
   "id": "7d8bcbf3",
   "metadata": {},
   "outputs": [],
   "source": []
  }
 ],
 "metadata": {
  "kernelspec": {
   "display_name": "Python 3 (ipykernel)",
   "language": "python",
   "name": "python3"
  },
  "language_info": {
   "codemirror_mode": {
    "name": "ipython",
    "version": 3
   },
   "file_extension": ".py",
   "mimetype": "text/x-python",
   "name": "python",
   "nbconvert_exporter": "python",
   "pygments_lexer": "ipython3",
   "version": "3.8.0"
  }
 },
 "nbformat": 4,
 "nbformat_minor": 5
}
